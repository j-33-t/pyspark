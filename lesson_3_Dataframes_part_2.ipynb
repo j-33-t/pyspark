{
 "cells": [
  {
   "cell_type": "markdown",
   "metadata": {},
   "source": [
    "# Pyspark Handling Missing Values\n",
    "- dropping columns \n",
    "- dropping rows\n",
    "- various parameter in dropping functionalities\n",
    "- handling missing values by mean"
   ]
  },
  {
   "cell_type": "code",
   "execution_count": 189,
   "metadata": {},
   "outputs": [
    {
     "data": {
      "text/html": [
       "<div>\n",
       "<style scoped>\n",
       "    .dataframe tbody tr th:only-of-type {\n",
       "        vertical-align: middle;\n",
       "    }\n",
       "\n",
       "    .dataframe tbody tr th {\n",
       "        vertical-align: top;\n",
       "    }\n",
       "\n",
       "    .dataframe thead th {\n",
       "        text-align: right;\n",
       "    }\n",
       "</style>\n",
       "<table border=\"1\" class=\"dataframe\">\n",
       "  <thead>\n",
       "    <tr style=\"text-align: right;\">\n",
       "      <th></th>\n",
       "      <th>Name</th>\n",
       "      <th>Age</th>\n",
       "      <th>Experience</th>\n",
       "      <th>Salary</th>\n",
       "    </tr>\n",
       "  </thead>\n",
       "  <tbody>\n",
       "    <tr>\n",
       "      <th>0</th>\n",
       "      <td>Tom</td>\n",
       "      <td>31.0</td>\n",
       "      <td>10.0</td>\n",
       "      <td>3000.0</td>\n",
       "    </tr>\n",
       "    <tr>\n",
       "      <th>1</th>\n",
       "      <td>Daniel</td>\n",
       "      <td>30.0</td>\n",
       "      <td>8.0</td>\n",
       "      <td>4000.0</td>\n",
       "    </tr>\n",
       "    <tr>\n",
       "      <th>2</th>\n",
       "      <td>Ron</td>\n",
       "      <td>29.0</td>\n",
       "      <td>4.0</td>\n",
       "      <td>5000.0</td>\n",
       "    </tr>\n",
       "    <tr>\n",
       "      <th>3</th>\n",
       "      <td>NaN</td>\n",
       "      <td>34.0</td>\n",
       "      <td>10.0</td>\n",
       "      <td>NaN</td>\n",
       "    </tr>\n",
       "    <tr>\n",
       "      <th>4</th>\n",
       "      <td>NaN</td>\n",
       "      <td>36.0</td>\n",
       "      <td>NaN</td>\n",
       "      <td>NaN</td>\n",
       "    </tr>\n",
       "    <tr>\n",
       "      <th>5</th>\n",
       "      <td>Fredric</td>\n",
       "      <td>NaN</td>\n",
       "      <td>NaN</td>\n",
       "      <td>38000.0</td>\n",
       "    </tr>\n",
       "    <tr>\n",
       "      <th>6</th>\n",
       "      <td>NaN</td>\n",
       "      <td>NaN</td>\n",
       "      <td>NaN</td>\n",
       "      <td>NaN</td>\n",
       "    </tr>\n",
       "    <tr>\n",
       "      <th>7</th>\n",
       "      <td>Snape</td>\n",
       "      <td>40.0</td>\n",
       "      <td>10.0</td>\n",
       "      <td>NaN</td>\n",
       "    </tr>\n",
       "  </tbody>\n",
       "</table>\n",
       "</div>"
      ],
      "text/plain": [
       "      Name   Age  Experience   Salary\n",
       "0      Tom  31.0        10.0   3000.0\n",
       "1   Daniel  30.0         8.0   4000.0\n",
       "2      Ron  29.0         4.0   5000.0\n",
       "3      NaN  34.0        10.0      NaN\n",
       "4      NaN  36.0         NaN      NaN\n",
       "5  Fredric   NaN         NaN  38000.0\n",
       "6      NaN   NaN         NaN      NaN\n",
       "7    Snape  40.0        10.0      NaN"
      ]
     },
     "execution_count": 189,
     "metadata": {},
     "output_type": "execute_result"
    }
   ],
   "source": [
    "import pandas as pd\n",
    "import numpy as np\n",
    "\n",
    "df = pd.DataFrame([[\"Tom\", 31, 10,3000],[\"Daniel\",30,8,4000],[\"Ron\",29,4,5000],['',34,10,],['',36],[\"Fredric\",'','',38000],[''],[\"Snape\",40,10,'']], columns = ([\"Name\",\"Age\",\"Experience\",\"Salary\"]))\n",
    "df.replace('',np.nan, inplace = True)\n",
    "df.to_csv(\"test3.csv\", index = False)\n",
    "\n",
    "df"
   ]
  },
  {
   "cell_type": "code",
   "execution_count": 190,
   "metadata": {},
   "outputs": [],
   "source": [
    "from pyspark.sql import SparkSession\n",
    "spark = SparkSession.builder.appName('Practice').getOrCreate()"
   ]
  },
  {
   "cell_type": "code",
   "execution_count": 191,
   "metadata": {},
   "outputs": [
    {
     "name": "stdout",
     "output_type": "stream",
     "text": [
      "+-------+----+----------+-------+\n",
      "|   Name| Age|Experience| Salary|\n",
      "+-------+----+----------+-------+\n",
      "|    Tom|31.0|      10.0| 3000.0|\n",
      "| Daniel|30.0|       8.0| 4000.0|\n",
      "|    Ron|29.0|       4.0| 5000.0|\n",
      "|   null|34.0|      10.0|   null|\n",
      "|   null|36.0|      null|   null|\n",
      "|Fredric|null|      null|38000.0|\n",
      "|   null|null|      null|   null|\n",
      "|  Snape|40.0|      10.0|   null|\n",
      "+-------+----+----------+-------+\n",
      "\n"
     ]
    }
   ],
   "source": [
    "df_pyspark = spark.read.csv(\"test3.csv\",header = True, inferSchema=True)\n",
    "df_pyspark.show()"
   ]
  },
  {
   "cell_type": "markdown",
   "metadata": {},
   "source": [
    "### Dropping columns"
   ]
  },
  {
   "cell_type": "code",
   "execution_count": 192,
   "metadata": {},
   "outputs": [
    {
     "name": "stdout",
     "output_type": "stream",
     "text": [
      "+-------+----+----------+\n",
      "|   Name| Age|Experience|\n",
      "+-------+----+----------+\n",
      "|    Tom|31.0|      10.0|\n",
      "| Daniel|30.0|       8.0|\n",
      "|    Ron|29.0|       4.0|\n",
      "|   null|34.0|      10.0|\n",
      "|   null|36.0|      null|\n",
      "|Fredric|null|      null|\n",
      "|   null|null|      null|\n",
      "|  Snape|40.0|      10.0|\n",
      "+-------+----+----------+\n",
      "\n"
     ]
    }
   ],
   "source": [
    "df_pyspark.drop(\"Salary\").show()"
   ]
  },
  {
   "cell_type": "markdown",
   "metadata": {},
   "source": [
    "### Dropping null Values"
   ]
  },
  {
   "cell_type": "code",
   "execution_count": 193,
   "metadata": {},
   "outputs": [
    {
     "name": "stdout",
     "output_type": "stream",
     "text": [
      "+------+----+----------+------+\n",
      "|  Name| Age|Experience|Salary|\n",
      "+------+----+----------+------+\n",
      "|   Tom|31.0|      10.0|3000.0|\n",
      "|Daniel|30.0|       8.0|4000.0|\n",
      "|   Ron|29.0|       4.0|5000.0|\n",
      "+------+----+----------+------+\n",
      "\n"
     ]
    }
   ],
   "source": [
    "# all rows having null values are removed\n",
    "df_pyspark.na.drop().show()"
   ]
  },
  {
   "cell_type": "code",
   "execution_count": 194,
   "metadata": {},
   "outputs": [
    {
     "name": "stdout",
     "output_type": "stream",
     "text": [
      "+-------+----+----------+-------+\n",
      "|   Name| Age|Experience| Salary|\n",
      "+-------+----+----------+-------+\n",
      "|    Tom|31.0|      10.0| 3000.0|\n",
      "| Daniel|30.0|       8.0| 4000.0|\n",
      "|    Ron|29.0|       4.0| 5000.0|\n",
      "|   null|34.0|      10.0|   null|\n",
      "|   null|36.0|      null|   null|\n",
      "|Fredric|null|      null|38000.0|\n",
      "|  Snape|40.0|      10.0|   null|\n",
      "+-------+----+----------+-------+\n",
      "\n"
     ]
    }
   ],
   "source": [
    "# drop only if all values are null in a row\n",
    "df_pyspark.na.drop(how = \"all\").show()"
   ]
  },
  {
   "cell_type": "code",
   "execution_count": 195,
   "metadata": {},
   "outputs": [
    {
     "name": "stdout",
     "output_type": "stream",
     "text": [
      "+-------+----+----------+-------+\n",
      "|   Name| Age|Experience| Salary|\n",
      "+-------+----+----------+-------+\n",
      "|    Tom|31.0|      10.0| 3000.0|\n",
      "| Daniel|30.0|       8.0| 4000.0|\n",
      "|    Ron|29.0|       4.0| 5000.0|\n",
      "|   null|34.0|      10.0|   null|\n",
      "|Fredric|null|      null|38000.0|\n",
      "|  Snape|40.0|      10.0|   null|\n",
      "+-------+----+----------+-------+\n",
      "\n"
     ]
    }
   ],
   "source": [
    "# adding threshold for dropping nan values\n",
    "\n",
    "df_pyspark.na.drop(how = \"all\", thresh=2).show()"
   ]
  },
  {
   "cell_type": "markdown",
   "metadata": {},
   "source": [
    "row containing more than 2 null values have been dropped in the table above"
   ]
  },
  {
   "cell_type": "code",
   "execution_count": 196,
   "metadata": {},
   "outputs": [
    {
     "name": "stdout",
     "output_type": "stream",
     "text": [
      "+------+----+----------+------+\n",
      "|  Name| Age|Experience|Salary|\n",
      "+------+----+----------+------+\n",
      "|   Tom|31.0|      10.0|3000.0|\n",
      "|Daniel|30.0|       8.0|4000.0|\n",
      "|   Ron|29.0|       4.0|5000.0|\n",
      "|  null|34.0|      10.0|  null|\n",
      "| Snape|40.0|      10.0|  null|\n",
      "+------+----+----------+------+\n",
      "\n"
     ]
    }
   ],
   "source": [
    "## subset feature for dropping null values from a specific column\n",
    "df_pyspark.na.drop(how = \"all\", subset = [\"Experience\"]).show()"
   ]
  },
  {
   "cell_type": "markdown",
   "metadata": {},
   "source": [
    "in the table above any rows containing null values for experience have been removed"
   ]
  },
  {
   "cell_type": "markdown",
   "metadata": {},
   "source": [
    "## Filling the Missing Values\n",
    "* string column can only be replaced with strings and numeric columns can only be replaced by numbers"
   ]
  },
  {
   "cell_type": "code",
   "execution_count": 197,
   "metadata": {},
   "outputs": [
    {
     "name": "stdout",
     "output_type": "stream",
     "text": [
      "+-------+----+----------+-------+\n",
      "|   Name| Age|Experience| Salary|\n",
      "+-------+----+----------+-------+\n",
      "|    Tom|31.0|      10.0| 3000.0|\n",
      "| Daniel|30.0|       8.0| 4000.0|\n",
      "|    Ron|29.0|       4.0| 5000.0|\n",
      "|       |34.0|      10.0|   null|\n",
      "|       |36.0|      null|   null|\n",
      "|Fredric|null|      null|38000.0|\n",
      "|       |null|      null|   null|\n",
      "|  Snape|40.0|      10.0|   null|\n",
      "+-------+----+----------+-------+\n",
      "\n"
     ]
    }
   ],
   "source": [
    "\n",
    "df_pyspark.na.fill(\"\").show()"
   ]
  },
  {
   "cell_type": "code",
   "execution_count": 198,
   "metadata": {},
   "outputs": [
    {
     "name": "stdout",
     "output_type": "stream",
     "text": [
      "+-------+----+----------+-------+\n",
      "|   Name| Age|Experience| Salary|\n",
      "+-------+----+----------+-------+\n",
      "|    Tom|31.0|      10.0| 3000.0|\n",
      "| Daniel|30.0|       8.0| 4000.0|\n",
      "|    Ron|29.0|       4.0| 5000.0|\n",
      "|   null|34.0|      10.0|    0.0|\n",
      "|   null|36.0|       0.0|    0.0|\n",
      "|Fredric| 0.0|       0.0|38000.0|\n",
      "|   null| 0.0|       0.0|    0.0|\n",
      "|  Snape|40.0|      10.0|    0.0|\n",
      "+-------+----+----------+-------+\n",
      "\n"
     ]
    }
   ],
   "source": [
    "df_pyspark.na.fill(0).show()"
   ]
  },
  {
   "cell_type": "code",
   "execution_count": 199,
   "metadata": {},
   "outputs": [
    {
     "name": "stdout",
     "output_type": "stream",
     "text": [
      "+-------+----+----------+-------+\n",
      "|   Name| Age|Experience| Salary|\n",
      "+-------+----+----------+-------+\n",
      "|    Tom|31.0|      10.0| 3000.0|\n",
      "| Daniel|30.0|       8.0| 4000.0|\n",
      "|    Ron|29.0|       4.0| 5000.0|\n",
      "|   null|34.0|      10.0|    0.0|\n",
      "|   null|36.0|      null|    0.0|\n",
      "|Fredric|null|      null|38000.0|\n",
      "|   null|null|      null|    0.0|\n",
      "|  Snape|40.0|      10.0|    0.0|\n",
      "+-------+----+----------+-------+\n",
      "\n"
     ]
    }
   ],
   "source": [
    "# Handling for a specific columns, \n",
    "df_pyspark.na.fill({'Salary':0}).show()"
   ]
  },
  {
   "cell_type": "markdown",
   "metadata": {},
   "source": [
    "#### Replacing null values with mean"
   ]
  },
  {
   "cell_type": "code",
   "execution_count": 201,
   "metadata": {},
   "outputs": [
    {
     "name": "stdout",
     "output_type": "stream",
     "text": [
      "+-------+----+----------+-------+------------------+------------------+--------------+\n",
      "|   Name| Age|Experience| Salary|       Age_imputed|Experience_imputed|Salary_imputed|\n",
      "+-------+----+----------+-------+------------------+------------------+--------------+\n",
      "|    Tom|31.0|      10.0| 3000.0|              31.0|              10.0|        3000.0|\n",
      "| Daniel|30.0|       8.0| 4000.0|              30.0|               8.0|        4000.0|\n",
      "|    Ron|29.0|       4.0| 5000.0|              29.0|               4.0|        5000.0|\n",
      "|   null|34.0|      10.0|   null|              34.0|              10.0|       12500.0|\n",
      "|   null|36.0|      null|   null|              36.0|               8.4|       12500.0|\n",
      "|Fredric|null|      null|38000.0|33.333333333333336|               8.4|       38000.0|\n",
      "|  Snape|40.0|      10.0|   null|              40.0|              10.0|       12500.0|\n",
      "+-------+----+----------+-------+------------------+------------------+--------------+\n",
      "\n"
     ]
    }
   ],
   "source": [
    "# drop  if all values are null in a row\n",
    "df_pyspark = df_pyspark.na.drop(how = \"all\")\n",
    "\n",
    "\n",
    "# replace null values using mean\n",
    "from pyspark.ml.feature import Imputer\n",
    "\n",
    "imputer = Imputer(inputCols = ['Age','Experience','Salary'],\n",
    "                  outputCols = [\"{}_imputed\".format(c) for c in ['Age','Experience','Salary']]).setStrategy(\"mean\")\n",
    "\n",
    "\n",
    "# Add imputation cols to df_pyspark\n",
    "\n",
    "imputer.fit(df_pyspark).transform(df_pyspark).show()\n",
    "\n"
   ]
  },
  {
   "cell_type": "markdown",
   "metadata": {},
   "source": [
    "#### Replacing null values with median"
   ]
  },
  {
   "cell_type": "code",
   "execution_count": 202,
   "metadata": {},
   "outputs": [
    {
     "name": "stdout",
     "output_type": "stream",
     "text": [
      "+-------+----+----------+-------+-----------+------------------+--------------+\n",
      "|   Name| Age|Experience| Salary|Age_imputed|Experience_imputed|Salary_imputed|\n",
      "+-------+----+----------+-------+-----------+------------------+--------------+\n",
      "|    Tom|31.0|      10.0| 3000.0|       31.0|              10.0|        3000.0|\n",
      "| Daniel|30.0|       8.0| 4000.0|       30.0|               8.0|        4000.0|\n",
      "|    Ron|29.0|       4.0| 5000.0|       29.0|               4.0|        5000.0|\n",
      "|   null|34.0|      10.0|   null|       34.0|              10.0|        4000.0|\n",
      "|   null|36.0|      null|   null|       36.0|              10.0|        4000.0|\n",
      "|Fredric|null|      null|38000.0|       31.0|              10.0|       38000.0|\n",
      "|  Snape|40.0|      10.0|   null|       40.0|              10.0|        4000.0|\n",
      "+-------+----+----------+-------+-----------+------------------+--------------+\n",
      "\n"
     ]
    }
   ],
   "source": [
    "\n",
    "\n",
    "# replace null values using median\n",
    "from pyspark.ml.feature import Imputer\n",
    "\n",
    "imputer = Imputer(inputCols = ['Age','Experience','Salary'],\n",
    "                  outputCols = [\"{}_imputed\".format(c) for c in ['Age','Experience','Salary']]).setStrategy(\"median\")\n",
    "\n",
    "\n",
    "# Add imputation cols to df_pyspark\n",
    "\n",
    "imputer.fit(df_pyspark).transform(df_pyspark).show()"
   ]
  }
 ],
 "metadata": {
  "interpreter": {
   "hash": "a1fb47844a43067c3c791d983d96d20a964eea004028ecb94da250cdad83be0a"
  },
  "kernelspec": {
   "display_name": "Python 3.8.5 ('base')",
   "language": "python",
   "name": "python3"
  },
  "language_info": {
   "codemirror_mode": {
    "name": "ipython",
    "version": 3
   },
   "file_extension": ".py",
   "mimetype": "text/x-python",
   "name": "python",
   "nbconvert_exporter": "python",
   "pygments_lexer": "ipython3",
   "version": "3.8.5"
  },
  "orig_nbformat": 4
 },
 "nbformat": 4,
 "nbformat_minor": 2
}
