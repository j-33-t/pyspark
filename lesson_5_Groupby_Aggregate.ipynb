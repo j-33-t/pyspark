{
 "cells": [
  {
   "cell_type": "code",
   "execution_count": 49,
   "metadata": {},
   "outputs": [],
   "source": [
    "# Creating file \n",
    "import pandas as pd\n",
    "\n",
    "df = pd.DataFrame([ [\"Tom\",       \"Data Science\",             1000],\n",
    "                    [\"Tom\",       \"IOT\",                      2000],\n",
    "                    [\"Tom\",       \"Big Data\",                 3000],\n",
    "                    [\"Hwa-pyung\", \"Artificial Intelligence\",  11000],\n",
    "                    [\"Hwa-pyung\", \"Artificial Intelligence\",  12000],\n",
    "                    [\"Yoshiro\",   \"Data Engineer\",            6000],\n",
    "                    [\"Yoshiro\",   \"Data Engineer\",            7000],\n",
    "                    [\"Yoshiro\",   \"Data Architect\",           8000],\n",
    "                    [\"Yamraj\",    \"Data Architect\",           13000],\n",
    "                    [\"Yamraj\",    \"Data Architect\",           14000]],\n",
    "                columns = (['Name','Departments','Salary']))"
   ]
  },
  {
   "cell_type": "code",
   "execution_count": 50,
   "metadata": {},
   "outputs": [
    {
     "data": {
      "text/html": [
       "<div>\n",
       "<style scoped>\n",
       "    .dataframe tbody tr th:only-of-type {\n",
       "        vertical-align: middle;\n",
       "    }\n",
       "\n",
       "    .dataframe tbody tr th {\n",
       "        vertical-align: top;\n",
       "    }\n",
       "\n",
       "    .dataframe thead th {\n",
       "        text-align: right;\n",
       "    }\n",
       "</style>\n",
       "<table border=\"1\" class=\"dataframe\">\n",
       "  <thead>\n",
       "    <tr style=\"text-align: right;\">\n",
       "      <th></th>\n",
       "      <th>Name</th>\n",
       "      <th>Departments</th>\n",
       "      <th>Salary</th>\n",
       "    </tr>\n",
       "  </thead>\n",
       "  <tbody>\n",
       "    <tr>\n",
       "      <th>0</th>\n",
       "      <td>Tom</td>\n",
       "      <td>Data Science</td>\n",
       "      <td>1000</td>\n",
       "    </tr>\n",
       "    <tr>\n",
       "      <th>1</th>\n",
       "      <td>Tom</td>\n",
       "      <td>IOT</td>\n",
       "      <td>2000</td>\n",
       "    </tr>\n",
       "    <tr>\n",
       "      <th>2</th>\n",
       "      <td>Tom</td>\n",
       "      <td>Big Data</td>\n",
       "      <td>3000</td>\n",
       "    </tr>\n",
       "    <tr>\n",
       "      <th>3</th>\n",
       "      <td>Hwa-pyung</td>\n",
       "      <td>Artificial Intelligence</td>\n",
       "      <td>11000</td>\n",
       "    </tr>\n",
       "    <tr>\n",
       "      <th>4</th>\n",
       "      <td>Hwa-pyung</td>\n",
       "      <td>Artificial Intelligence</td>\n",
       "      <td>12000</td>\n",
       "    </tr>\n",
       "    <tr>\n",
       "      <th>5</th>\n",
       "      <td>Yoshiro</td>\n",
       "      <td>Data Engineer</td>\n",
       "      <td>6000</td>\n",
       "    </tr>\n",
       "    <tr>\n",
       "      <th>6</th>\n",
       "      <td>Yoshiro</td>\n",
       "      <td>Data Engineer</td>\n",
       "      <td>7000</td>\n",
       "    </tr>\n",
       "    <tr>\n",
       "      <th>7</th>\n",
       "      <td>Yoshiro</td>\n",
       "      <td>Data Architect</td>\n",
       "      <td>8000</td>\n",
       "    </tr>\n",
       "    <tr>\n",
       "      <th>8</th>\n",
       "      <td>Yamraj</td>\n",
       "      <td>Data Architect</td>\n",
       "      <td>13000</td>\n",
       "    </tr>\n",
       "    <tr>\n",
       "      <th>9</th>\n",
       "      <td>Yamraj</td>\n",
       "      <td>Data Architect</td>\n",
       "      <td>14000</td>\n",
       "    </tr>\n",
       "  </tbody>\n",
       "</table>\n",
       "</div>"
      ],
      "text/plain": [
       "        Name              Departments  Salary\n",
       "0        Tom             Data Science    1000\n",
       "1        Tom                      IOT    2000\n",
       "2        Tom                 Big Data    3000\n",
       "3  Hwa-pyung  Artificial Intelligence   11000\n",
       "4  Hwa-pyung  Artificial Intelligence   12000\n",
       "5    Yoshiro            Data Engineer    6000\n",
       "6    Yoshiro            Data Engineer    7000\n",
       "7    Yoshiro           Data Architect    8000\n",
       "8     Yamraj           Data Architect   13000\n",
       "9     Yamraj           Data Architect   14000"
      ]
     },
     "execution_count": 50,
     "metadata": {},
     "output_type": "execute_result"
    }
   ],
   "source": [
    "df"
   ]
  },
  {
   "cell_type": "code",
   "execution_count": 51,
   "metadata": {},
   "outputs": [],
   "source": [
    "df.to_csv(\"test5.csv\", index = False)"
   ]
  },
  {
   "cell_type": "code",
   "execution_count": 52,
   "metadata": {},
   "outputs": [],
   "source": [
    "from pyspark.sql import SparkSession\n",
    "spark = SparkSession.builder.appName(\"Aggregate\").getOrCreate()"
   ]
  },
  {
   "cell_type": "code",
   "execution_count": 53,
   "metadata": {},
   "outputs": [],
   "source": [
    "df_pyspark = spark.read.csv(\"test5.csv\", header = True, inferSchema = True)"
   ]
  },
  {
   "cell_type": "code",
   "execution_count": 54,
   "metadata": {},
   "outputs": [
    {
     "name": "stdout",
     "output_type": "stream",
     "text": [
      "+---------+--------------------+------+\n",
      "|     Name|         Departments|Salary|\n",
      "+---------+--------------------+------+\n",
      "|      Tom|        Data Science|  1000|\n",
      "|      Tom|                 IOT|  2000|\n",
      "|      Tom|            Big Data|  3000|\n",
      "|Hwa-pyung|Artificial Intell...| 11000|\n",
      "|Hwa-pyung|Artificial Intell...| 12000|\n",
      "|  Yoshiro|       Data Engineer|  6000|\n",
      "|  Yoshiro|       Data Engineer|  7000|\n",
      "|  Yoshiro|      Data Architect|  8000|\n",
      "|   Yamraj|      Data Architect| 13000|\n",
      "|   Yamraj|      Data Architect| 14000|\n",
      "+---------+--------------------+------+\n",
      "\n"
     ]
    }
   ],
   "source": [
    "df_pyspark.show()"
   ]
  },
  {
   "cell_type": "code",
   "execution_count": 60,
   "metadata": {},
   "outputs": [
    {
     "data": {
      "text/plain": [
       "[('Name', 'string'), ('Departments', 'string'), ('Salary', 'int')]"
      ]
     },
     "execution_count": 60,
     "metadata": {},
     "output_type": "execute_result"
    }
   ],
   "source": [
    "df_pyspark.dtypes"
   ]
  },
  {
   "cell_type": "markdown",
   "metadata": {},
   "source": [
    "## GroupBy\n",
    "we always need to add and aggregate function to groupby"
   ]
  },
  {
   "cell_type": "code",
   "execution_count": 81,
   "metadata": {},
   "outputs": [
    {
     "name": "stdout",
     "output_type": "stream",
     "text": [
      "+---------+-----------+\n",
      "|     Name|sum(Salary)|\n",
      "+---------+-----------+\n",
      "|      Tom|       6000|\n",
      "|  Yoshiro|      21000|\n",
      "|Hwa-pyung|      23000|\n",
      "|   Yamraj|      27000|\n",
      "+---------+-----------+\n",
      "\n",
      "+---------+-----------+\n",
      "|     Name|avg(Salary)|\n",
      "+---------+-----------+\n",
      "|      Tom|     2000.0|\n",
      "|  Yoshiro|     7000.0|\n",
      "|Hwa-pyung|    11500.0|\n",
      "|   Yamraj|    13500.0|\n",
      "+---------+-----------+\n",
      "\n"
     ]
    }
   ],
   "source": [
    "# find total salaries by departments\n",
    "df_pyspark.groupBy('Name').sum().sort(\"sum(Salary)\").show()\n",
    "\n",
    "# find mean salaries by departments\n",
    "\n",
    "df_pyspark.groupBy('Name').mean().sort(\"avg(Salary)\").show()"
   ]
  },
  {
   "cell_type": "code",
   "execution_count": 79,
   "metadata": {},
   "outputs": [
    {
     "name": "stdout",
     "output_type": "stream",
     "text": [
      "+---------+-----+\n",
      "|     Name|count|\n",
      "+---------+-----+\n",
      "|Hwa-pyung|    2|\n",
      "|      Tom|    3|\n",
      "|   Yamraj|    2|\n",
      "|  Yoshiro|    3|\n",
      "+---------+-----+\n",
      "\n"
     ]
    }
   ],
   "source": [
    "# count employees by departments\n",
    "df_pyspark.groupBy('Name').count().show()"
   ]
  },
  {
   "cell_type": "code",
   "execution_count": 63,
   "metadata": {},
   "outputs": [
    {
     "name": "stdout",
     "output_type": "stream",
     "text": [
      "+-----------+\n",
      "|sum(Salary)|\n",
      "+-----------+\n",
      "|      77000|\n",
      "+-----------+\n",
      "\n"
     ]
    }
   ],
   "source": [
    "# finding total expenditure by applying aggregate directly\n",
    "df_pyspark.agg({'Salary':'sum'}).show()"
   ]
  },
  {
   "cell_type": "code",
   "execution_count": 96,
   "metadata": {},
   "outputs": [
    {
     "name": "stdout",
     "output_type": "stream",
     "text": [
      "+---------+----------+\n",
      "|     Name|sum_salary|\n",
      "+---------+----------+\n",
      "|   Yamraj|     27000|\n",
      "|Hwa-pyung|     23000|\n",
      "|  Yoshiro|     21000|\n",
      "|      Tom|      6000|\n",
      "+---------+----------+\n",
      "\n"
     ]
    }
   ],
   "source": [
    "# showing maximum salary per Name\n",
    "\n",
    "# grouping column by name and summing up salaries\n",
    "df2 = df_pyspark.groupBy('Name').sum()\n",
    "\n",
    "#remaing columns\n",
    "df2 = df2.withColumnRenamed(\"sum(Salary)\", \"sum_salary\")\n",
    "\n",
    "# showing result sorted in desc order\n",
    "df2.sort(df2.sum_salary.desc()).show()\n",
    "\n",
    "\n"
   ]
  }
 ],
 "metadata": {
  "interpreter": {
   "hash": "a1fb47844a43067c3c791d983d96d20a964eea004028ecb94da250cdad83be0a"
  },
  "kernelspec": {
   "display_name": "Python 3.8.5 ('base')",
   "language": "python",
   "name": "python3"
  },
  "language_info": {
   "codemirror_mode": {
    "name": "ipython",
    "version": 3
   },
   "file_extension": ".py",
   "mimetype": "text/x-python",
   "name": "python",
   "nbconvert_exporter": "python",
   "pygments_lexer": "ipython3",
   "version": "3.8.5"
  },
  "orig_nbformat": 4
 },
 "nbformat": 4,
 "nbformat_minor": 2
}
