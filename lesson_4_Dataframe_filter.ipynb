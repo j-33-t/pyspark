{
 "cells": [
  {
   "cell_type": "markdown",
   "metadata": {},
   "source": [
    "# PySpark Dataframes\n",
    "- Filter Operation\n",
    "- &, |, ==\n",
    "- ˜\n",
    "\n",
    "useful for data preprocessing techniques"
   ]
  },
  {
   "cell_type": "code",
   "execution_count": 1,
   "metadata": {},
   "outputs": [
    {
     "data": {
      "text/html": [
       "<div>\n",
       "<style scoped>\n",
       "    .dataframe tbody tr th:only-of-type {\n",
       "        vertical-align: middle;\n",
       "    }\n",
       "\n",
       "    .dataframe tbody tr th {\n",
       "        vertical-align: top;\n",
       "    }\n",
       "\n",
       "    .dataframe thead th {\n",
       "        text-align: right;\n",
       "    }\n",
       "</style>\n",
       "<table border=\"1\" class=\"dataframe\">\n",
       "  <thead>\n",
       "    <tr style=\"text-align: right;\">\n",
       "      <th></th>\n",
       "      <th>Name</th>\n",
       "      <th>Age</th>\n",
       "      <th>Experience</th>\n",
       "      <th>Salary</th>\n",
       "    </tr>\n",
       "  </thead>\n",
       "  <tbody>\n",
       "    <tr>\n",
       "      <th>0</th>\n",
       "      <td>Tom</td>\n",
       "      <td>31</td>\n",
       "      <td>10</td>\n",
       "      <td>3000</td>\n",
       "    </tr>\n",
       "    <tr>\n",
       "      <th>1</th>\n",
       "      <td>Daniel</td>\n",
       "      <td>30</td>\n",
       "      <td>8</td>\n",
       "      <td>4000</td>\n",
       "    </tr>\n",
       "    <tr>\n",
       "      <th>2</th>\n",
       "      <td>Ron</td>\n",
       "      <td>29</td>\n",
       "      <td>4</td>\n",
       "      <td>5000</td>\n",
       "    </tr>\n",
       "    <tr>\n",
       "      <th>3</th>\n",
       "      <td>Ricardo</td>\n",
       "      <td>34</td>\n",
       "      <td>10</td>\n",
       "      <td>27000</td>\n",
       "    </tr>\n",
       "    <tr>\n",
       "      <th>4</th>\n",
       "      <td>Fredric</td>\n",
       "      <td>22</td>\n",
       "      <td>2</td>\n",
       "      <td>38000</td>\n",
       "    </tr>\n",
       "    <tr>\n",
       "      <th>5</th>\n",
       "      <td>Snape</td>\n",
       "      <td>40</td>\n",
       "      <td>10</td>\n",
       "      <td>190000</td>\n",
       "    </tr>\n",
       "  </tbody>\n",
       "</table>\n",
       "</div>"
      ],
      "text/plain": [
       "      Name  Age  Experience  Salary\n",
       "0      Tom   31          10    3000\n",
       "1   Daniel   30           8    4000\n",
       "2      Ron   29           4    5000\n",
       "3  Ricardo   34          10   27000\n",
       "4  Fredric   22           2   38000\n",
       "5    Snape   40          10  190000"
      ]
     },
     "execution_count": 1,
     "metadata": {},
     "output_type": "execute_result"
    }
   ],
   "source": [
    "# Creating file \n",
    "import pandas as pd\n",
    "\n",
    "\n",
    "df = pd.DataFrame([[\"Tom\", 31, 10,3000],[\"Daniel\",30,8,4000],[\"Ron\",29,4,5000],[\"Ricardo\",34,10,27000],[\"Fredric\",22,2,38000],[\"Snape\",40,15,190000],[\"John\",33,10,27000]], columns = ([\"Name\",\"Age\",\"Experience\",\"Salary\"]))\n",
    "df.to_csv(\"test4.csv\", index = False)\n",
    "df"
   ]
  },
  {
   "cell_type": "code",
   "execution_count": 2,
   "metadata": {},
   "outputs": [],
   "source": [
    "from pyspark.sql import SparkSession\n",
    "spark = SparkSession.builder.appName(\"Dataframe\").getOrCreate()"
   ]
  },
  {
   "cell_type": "code",
   "execution_count": 3,
   "metadata": {},
   "outputs": [
    {
     "name": "stdout",
     "output_type": "stream",
     "text": [
      "+-------+---+----------+------+\n",
      "|   Name|Age|Experience|Salary|\n",
      "+-------+---+----------+------+\n",
      "|    Tom| 31|        10|  3000|\n",
      "| Daniel| 30|         8|  4000|\n",
      "|    Ron| 29|         4|  5000|\n",
      "|Ricardo| 34|        10| 27000|\n",
      "|Fredric| 22|         2| 38000|\n",
      "|  Snape| 40|        10|190000|\n",
      "+-------+---+----------+------+\n",
      "\n"
     ]
    }
   ],
   "source": [
    "df_pyspark = spark.read.csv(\"test4.csv\", header = True, inferSchema= True)\n",
    "df_pyspark.show()"
   ]
  },
  {
   "cell_type": "markdown",
   "metadata": {},
   "source": [
    "## Filter Operations"
   ]
  },
  {
   "cell_type": "code",
   "execution_count": 5,
   "metadata": {},
   "outputs": [
    {
     "name": "stdout",
     "output_type": "stream",
     "text": [
      "+------+---+----------+------+\n",
      "|  Name|Age|Experience|Salary|\n",
      "+------+---+----------+------+\n",
      "|   Tom| 31|        10|  3000|\n",
      "|Daniel| 30|         8|  4000|\n",
      "|   Ron| 29|         4|  5000|\n",
      "+------+---+----------+------+\n",
      "\n"
     ]
    }
   ],
   "source": [
    "## Salary of people less than  27000\n",
    "df_pyspark.filter(\"Salary<27000\").show()"
   ]
  },
  {
   "cell_type": "code",
   "execution_count": 6,
   "metadata": {},
   "outputs": [
    {
     "name": "stdout",
     "output_type": "stream",
     "text": [
      "+------+---+\n",
      "|  Name|Age|\n",
      "+------+---+\n",
      "|   Tom| 31|\n",
      "|Daniel| 30|\n",
      "|   Ron| 29|\n",
      "+------+---+\n",
      "\n"
     ]
    }
   ],
   "source": [
    "# filtering for Salary of people less than  27000 and then only selecting specific columns for output\n",
    "df_pyspark.filter(\"Salary<27000\").select(['Name','Age']).show()"
   ]
  },
  {
   "cell_type": "code",
   "execution_count": 8,
   "metadata": {},
   "outputs": [
    {
     "name": "stdout",
     "output_type": "stream",
     "text": [
      "+------+---+----------+------+\n",
      "|  Name|Age|Experience|Salary|\n",
      "+------+---+----------+------+\n",
      "|   Tom| 31|        10|  3000|\n",
      "|Daniel| 30|         8|  4000|\n",
      "|   Ron| 29|         4|  5000|\n",
      "+------+---+----------+------+\n",
      "\n"
     ]
    }
   ],
   "source": [
    "# another way to write filter \n",
    "df_pyspark.filter(df_pyspark['Salary']<27000).show()"
   ]
  },
  {
   "cell_type": "code",
   "execution_count": 9,
   "metadata": {},
   "outputs": [
    {
     "name": "stdout",
     "output_type": "stream",
     "text": [
      "+------+---+----------+------+\n",
      "|  Name|Age|Experience|Salary|\n",
      "+------+---+----------+------+\n",
      "|Daniel| 30|         8|  4000|\n",
      "|   Ron| 29|         4|  5000|\n",
      "+------+---+----------+------+\n",
      "\n"
     ]
    }
   ],
   "source": [
    "# using & for filtering\n",
    "df_pyspark.filter((df_pyspark['Salary']<27000) & \n",
    "                  (df_pyspark['Salary']>3000)).show()"
   ]
  },
  {
   "cell_type": "code",
   "execution_count": 11,
   "metadata": {},
   "outputs": [
    {
     "name": "stdout",
     "output_type": "stream",
     "text": [
      "+-------+---+----------+------+\n",
      "|   Name|Age|Experience|Salary|\n",
      "+-------+---+----------+------+\n",
      "|Ricardo| 34|        10| 27000|\n",
      "|Fredric| 22|         2| 38000|\n",
      "|  Snape| 40|        10|190000|\n",
      "+-------+---+----------+------+\n",
      "\n"
     ]
    }
   ],
   "source": [
    "# not operation using ~ \n",
    "df_pyspark.filter(~(df_pyspark['Salary']<27000)).show()\n",
    "\n",
    "# result consists of filtering salary which is not less than 27000\n"
   ]
  }
 ],
 "metadata": {
  "interpreter": {
   "hash": "a1fb47844a43067c3c791d983d96d20a964eea004028ecb94da250cdad83be0a"
  },
  "kernelspec": {
   "display_name": "Python 3.8.5 ('base')",
   "language": "python",
   "name": "python3"
  },
  "language_info": {
   "codemirror_mode": {
    "name": "ipython",
    "version": 3
   },
   "file_extension": ".py",
   "mimetype": "text/x-python",
   "name": "python",
   "nbconvert_exporter": "python",
   "pygments_lexer": "ipython3",
   "version": "3.8.5"
  },
  "orig_nbformat": 4
 },
 "nbformat": 4,
 "nbformat_minor": 2
}
